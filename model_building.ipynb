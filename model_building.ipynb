{
 "cells": [
  {
   "cell_type": "code",
   "execution_count": 2,
   "id": "60460b72",
   "metadata": {},
   "outputs": [],
   "source": [
    "import pandas as pd\n",
    "import numpy as np\n",
    "import matplotlib.pyplot as plt\n",
    "import statsmodels.api as sm\n",
    "\n",
    "from sklearn.linear_model import LinearRegression, Lasso\n",
    "from sklearn.ensemble import RandomForestRegressor\n",
    "from sklearn.model_selection import train_test_split, cross_val_score, GridSearchCV\n",
    "from sklearn.metrics import mean_absolute_error, make_scorer\n",
    "import pickle\n",
    "import pathlib"
   ]
  },
  {
   "cell_type": "code",
   "execution_count": 3,
   "id": "dcc76fef",
   "metadata": {},
   "outputs": [
    {
     "data": {
      "text/html": [
       "<div>\n",
       "<style scoped>\n",
       "    .dataframe tbody tr th:only-of-type {\n",
       "        vertical-align: middle;\n",
       "    }\n",
       "\n",
       "    .dataframe tbody tr th {\n",
       "        vertical-align: top;\n",
       "    }\n",
       "\n",
       "    .dataframe thead th {\n",
       "        text-align: right;\n",
       "    }\n",
       "</style>\n",
       "<table border=\"1\" class=\"dataframe\">\n",
       "  <thead>\n",
       "    <tr style=\"text-align: right;\">\n",
       "      <th></th>\n",
       "      <th>Unnamed: 0</th>\n",
       "      <th>Job Title</th>\n",
       "      <th>Salary Estimate</th>\n",
       "      <th>Job Description</th>\n",
       "      <th>Rating</th>\n",
       "      <th>Company Name</th>\n",
       "      <th>Location</th>\n",
       "      <th>Headquarters</th>\n",
       "      <th>Size</th>\n",
       "      <th>Founded</th>\n",
       "      <th>...</th>\n",
       "      <th>age</th>\n",
       "      <th>python_yn</th>\n",
       "      <th>R_yn</th>\n",
       "      <th>spark</th>\n",
       "      <th>aws</th>\n",
       "      <th>excel</th>\n",
       "      <th>job_simp</th>\n",
       "      <th>seniority</th>\n",
       "      <th>desc_len</th>\n",
       "      <th>num_comp</th>\n",
       "    </tr>\n",
       "  </thead>\n",
       "  <tbody>\n",
       "    <tr>\n",
       "      <th>0</th>\n",
       "      <td>0</td>\n",
       "      <td>Data Scientist</td>\n",
       "      <td>$53K-$91K (Glassdoor est.)</td>\n",
       "      <td>Data Scientist\\nLocation: Albuquerque, NM\\nEdu...</td>\n",
       "      <td>3.8</td>\n",
       "      <td>Tecolote Research\\n3.8</td>\n",
       "      <td>Albuquerque, NM</td>\n",
       "      <td>Goleta, CA</td>\n",
       "      <td>501 to 1000 employees</td>\n",
       "      <td>1973</td>\n",
       "      <td>...</td>\n",
       "      <td>47</td>\n",
       "      <td>1</td>\n",
       "      <td>0</td>\n",
       "      <td>0</td>\n",
       "      <td>0</td>\n",
       "      <td>1</td>\n",
       "      <td>data scientist</td>\n",
       "      <td>na</td>\n",
       "      <td>2536</td>\n",
       "      <td>0</td>\n",
       "    </tr>\n",
       "    <tr>\n",
       "      <th>1</th>\n",
       "      <td>1</td>\n",
       "      <td>Healthcare Data Scientist</td>\n",
       "      <td>$63K-$112K (Glassdoor est.)</td>\n",
       "      <td>What You Will Do:\\n\\nI. General Summary\\n\\nThe...</td>\n",
       "      <td>3.4</td>\n",
       "      <td>University of Maryland Medical System\\n3.4</td>\n",
       "      <td>Linthicum, MD</td>\n",
       "      <td>Baltimore, MD</td>\n",
       "      <td>10000+ employees</td>\n",
       "      <td>1984</td>\n",
       "      <td>...</td>\n",
       "      <td>36</td>\n",
       "      <td>1</td>\n",
       "      <td>0</td>\n",
       "      <td>0</td>\n",
       "      <td>0</td>\n",
       "      <td>0</td>\n",
       "      <td>data scientist</td>\n",
       "      <td>na</td>\n",
       "      <td>4783</td>\n",
       "      <td>0</td>\n",
       "    </tr>\n",
       "    <tr>\n",
       "      <th>2</th>\n",
       "      <td>2</td>\n",
       "      <td>Data Scientist</td>\n",
       "      <td>$80K-$90K (Glassdoor est.)</td>\n",
       "      <td>KnowBe4, Inc. is a high growth information sec...</td>\n",
       "      <td>4.8</td>\n",
       "      <td>KnowBe4\\n4.8</td>\n",
       "      <td>Clearwater, FL</td>\n",
       "      <td>Clearwater, FL</td>\n",
       "      <td>501 to 1000 employees</td>\n",
       "      <td>2010</td>\n",
       "      <td>...</td>\n",
       "      <td>10</td>\n",
       "      <td>1</td>\n",
       "      <td>0</td>\n",
       "      <td>1</td>\n",
       "      <td>0</td>\n",
       "      <td>1</td>\n",
       "      <td>data scientist</td>\n",
       "      <td>na</td>\n",
       "      <td>3461</td>\n",
       "      <td>0</td>\n",
       "    </tr>\n",
       "    <tr>\n",
       "      <th>3</th>\n",
       "      <td>3</td>\n",
       "      <td>Data Scientist</td>\n",
       "      <td>$56K-$97K (Glassdoor est.)</td>\n",
       "      <td>*Organization and Job ID**\\nJob ID: 310709\\n\\n...</td>\n",
       "      <td>3.8</td>\n",
       "      <td>PNNL\\n3.8</td>\n",
       "      <td>Richland, WA</td>\n",
       "      <td>Richland, WA</td>\n",
       "      <td>1001 to 5000 employees</td>\n",
       "      <td>1965</td>\n",
       "      <td>...</td>\n",
       "      <td>55</td>\n",
       "      <td>1</td>\n",
       "      <td>0</td>\n",
       "      <td>0</td>\n",
       "      <td>0</td>\n",
       "      <td>0</td>\n",
       "      <td>data scientist</td>\n",
       "      <td>na</td>\n",
       "      <td>3883</td>\n",
       "      <td>3</td>\n",
       "    </tr>\n",
       "    <tr>\n",
       "      <th>4</th>\n",
       "      <td>4</td>\n",
       "      <td>Data Scientist</td>\n",
       "      <td>$86K-$143K (Glassdoor est.)</td>\n",
       "      <td>Data Scientist\\nAffinity Solutions / Marketing...</td>\n",
       "      <td>2.9</td>\n",
       "      <td>Affinity Solutions\\n2.9</td>\n",
       "      <td>New York, NY</td>\n",
       "      <td>New York, NY</td>\n",
       "      <td>51 to 200 employees</td>\n",
       "      <td>1998</td>\n",
       "      <td>...</td>\n",
       "      <td>22</td>\n",
       "      <td>1</td>\n",
       "      <td>0</td>\n",
       "      <td>0</td>\n",
       "      <td>0</td>\n",
       "      <td>1</td>\n",
       "      <td>data scientist</td>\n",
       "      <td>na</td>\n",
       "      <td>2728</td>\n",
       "      <td>3</td>\n",
       "    </tr>\n",
       "  </tbody>\n",
       "</table>\n",
       "<p>5 rows × 33 columns</p>\n",
       "</div>"
      ],
      "text/plain": [
       "   Unnamed: 0                  Job Title              Salary Estimate  \\\n",
       "0           0             Data Scientist   $53K-$91K (Glassdoor est.)   \n",
       "1           1  Healthcare Data Scientist  $63K-$112K (Glassdoor est.)   \n",
       "2           2             Data Scientist   $80K-$90K (Glassdoor est.)   \n",
       "3           3             Data Scientist   $56K-$97K (Glassdoor est.)   \n",
       "4           4             Data Scientist  $86K-$143K (Glassdoor est.)   \n",
       "\n",
       "                                     Job Description  Rating  \\\n",
       "0  Data Scientist\\nLocation: Albuquerque, NM\\nEdu...     3.8   \n",
       "1  What You Will Do:\\n\\nI. General Summary\\n\\nThe...     3.4   \n",
       "2  KnowBe4, Inc. is a high growth information sec...     4.8   \n",
       "3  *Organization and Job ID**\\nJob ID: 310709\\n\\n...     3.8   \n",
       "4  Data Scientist\\nAffinity Solutions / Marketing...     2.9   \n",
       "\n",
       "                                 Company Name         Location  \\\n",
       "0                      Tecolote Research\\n3.8  Albuquerque, NM   \n",
       "1  University of Maryland Medical System\\n3.4    Linthicum, MD   \n",
       "2                                KnowBe4\\n4.8   Clearwater, FL   \n",
       "3                                   PNNL\\n3.8     Richland, WA   \n",
       "4                     Affinity Solutions\\n2.9     New York, NY   \n",
       "\n",
       "     Headquarters                    Size  Founded  ... age python_yn R_yn  \\\n",
       "0      Goleta, CA   501 to 1000 employees     1973  ...  47         1    0   \n",
       "1   Baltimore, MD        10000+ employees     1984  ...  36         1    0   \n",
       "2  Clearwater, FL   501 to 1000 employees     2010  ...  10         1    0   \n",
       "3    Richland, WA  1001 to 5000 employees     1965  ...  55         1    0   \n",
       "4    New York, NY     51 to 200 employees     1998  ...  22         1    0   \n",
       "\n",
       "  spark aws  excel        job_simp  seniority  desc_len  num_comp  \n",
       "0     0   0      1  data scientist         na      2536         0  \n",
       "1     0   0      0  data scientist         na      4783         0  \n",
       "2     1   0      1  data scientist         na      3461         0  \n",
       "3     0   0      0  data scientist         na      3883         3  \n",
       "4     0   0      1  data scientist         na      2728         3  \n",
       "\n",
       "[5 rows x 33 columns]"
      ]
     },
     "execution_count": 3,
     "metadata": {},
     "output_type": "execute_result"
    }
   ],
   "source": [
    "# load data\n",
    "df = pd.read_csv(\"eda_data.csv\")\n",
    "df.head()"
   ]
  },
  {
   "cell_type": "code",
   "execution_count": null,
   "id": "e5d36903",
   "metadata": {},
   "outputs": [
    {
     "data": {
      "text/plain": [
       "Index(['Unnamed: 0', 'Job Title', 'Salary Estimate', 'Job Description',\n",
       "       'Rating', 'Company Name', 'Location', 'Headquarters', 'Size', 'Founded',\n",
       "       'Type of ownership', 'Industry', 'Sector', 'Revenue', 'Competitors',\n",
       "       'hourly', 'employer_provided', 'min_salary', 'max_salary', 'avg_salary',\n",
       "       'company_txt', 'job_state', 'same_state', 'age', 'python_yn', 'R_yn',\n",
       "       'spark', 'aws', 'excel', 'job_simp', 'seniority', 'desc_len',\n",
       "       'num_comp'],\n",
       "      dtype='object')"
      ]
     },
     "execution_count": 4,
     "metadata": {},
     "output_type": "execute_result"
    }
   ],
   "source": [
    "df.columns"
   ]
  },
  {
   "cell_type": "code",
   "execution_count": 5,
   "id": "09df2348",
   "metadata": {},
   "outputs": [],
   "source": [
    "# select only relevant features \n",
    "cols = [\n",
    "    \"avg_salary\", \"Rating\", \"Size\", \"Type of ownership\", \"Industry\", \"Sector\",\n",
    "    \"Revenue\", \"num_comp\", \"hourly\", \"employer_provided\", \"job_state\",\n",
    "    \"same_state\", \"age\", \"python_yn\", \"spark\", \"aws\", \"excel\", \"job_simp\",\n",
    "    \"seniority\", \"desc_len\",\n",
    "]\n",
    "df_model = df[cols]"
   ]
  },
  {
   "cell_type": "code",
   "execution_count": 6,
   "id": "0f4083b3",
   "metadata": {},
   "outputs": [],
   "source": [
    "# one-hot encode categorical columns\n",
    "df_dum = pd.get_dummies(df_model, drop_first=True)"
   ]
  },
  {
   "cell_type": "code",
   "execution_count": 10,
   "id": "d963e028",
   "metadata": {},
   "outputs": [],
   "source": [
    "# create X, y for training dataset\n",
    "# X will hold the dataset without the avg_salary columm\n",
    "X = df_dum.drop(\"avg_salary\", axis=1)"
   ]
  },
  {
   "cell_type": "code",
   "execution_count": 11,
   "id": "e7677aea",
   "metadata": {},
   "outputs": [
    {
     "data": {
      "text/plain": [
       "0       72.0\n",
       "1       87.5\n",
       "2       85.0\n",
       "3       76.5\n",
       "4      114.5\n",
       "       ...  \n",
       "737     84.5\n",
       "738    102.5\n",
       "739     73.5\n",
       "740    127.5\n",
       "741     93.5\n",
       "Name: avg_salary, Length: 742, dtype: float64"
      ]
     },
     "execution_count": 11,
     "metadata": {},
     "output_type": "execute_result"
    }
   ],
   "source": [
    "# y will hold the dropped column\n",
    "y = df_dum['avg_salary']\n",
    "y"
   ]
  },
  {
   "cell_type": "code",
   "execution_count": null,
   "id": "0dc72ebc",
   "metadata": {},
   "outputs": [],
   "source": [
    "# split into train/test datasets\n",
    "# only 20% of data goes into training dataset\n",
    "X_train, X_test, y_train, y_test = train_test_split(\n",
    "    X, y, test_size=0.20, random_state=42\n",
    ")"
   ]
  },
  {
   "cell_type": "code",
   "execution_count": 14,
   "id": "4e578961",
   "metadata": {},
   "outputs": [],
   "source": [
    "# MAE scorer helper\n",
    "pos_mae = make_scorer(mean_absolute_error, greater_is_better=False)\n",
    "\n",
    "def cv_mae(model):\n",
    "    \"\"\"Return +MAE (so ‘lower is better’ is obvious).\"\"\"\n",
    "    scores = cross_val_score(model, X_train, y_train, scoring=pos_mae, cv=5)\n",
    "    return -scores.mean()"
   ]
  },
  {
   "cell_type": "code",
   "execution_count": 15,
   "id": "e3d060b4",
   "metadata": {},
   "outputs": [
    {
     "name": "stdout",
     "output_type": "stream",
     "text": [
      "📊 statsmodels OLS …\n",
      "                            OLS Regression Results                            \n",
      "==============================================================================\n",
      "Dep. Variable:             avg_salary   R-squared:                       0.250\n",
      "Model:                            OLS   Adj. R-squared:                  0.238\n",
      "Method:                 Least Squares   F-statistic:                     22.07\n",
      "Date:                Sun, 18 May 2025   Prob (F-statistic):           4.09e-39\n",
      "Time:                        19:15:19   Log-Likelihood:                -3661.4\n",
      "No. Observations:                 742   AIC:                             7347.\n",
      "Df Residuals:                     730   BIC:                             7402.\n",
      "Df Model:                          11                                         \n",
      "Covariance Type:            nonrobust                                         \n",
      "=====================================================================================\n",
      "                        coef    std err          t      P>|t|      [0.025      0.975]\n",
      "-------------------------------------------------------------------------------------\n",
      "const                78.3376      7.804     10.038      0.000      63.017      93.658\n",
      "Rating                1.9134      1.803      1.061      0.289      -1.627       5.453\n",
      "num_comp              0.9460      0.931      1.017      0.310      -0.881       2.773\n",
      "hourly              -72.0011      7.332     -9.820      0.000     -86.395     -57.607\n",
      "employer_provided    48.7233      9.737      5.004      0.000      29.607      67.840\n",
      "same_state           -1.4287      2.619     -0.546      0.586      -6.570       3.712\n",
      "age                   0.0437      0.024      1.788      0.074      -0.004       0.092\n",
      "python_yn            19.2999      2.744      7.034      0.000      13.914      24.686\n",
      "spark                 3.4260      3.325      1.030      0.303      -3.102       9.954\n",
      "aws                   7.9829      3.145      2.539      0.011       1.809      14.156\n",
      "excel                -7.7564      2.555     -3.036      0.002     -12.773      -2.740\n",
      "desc_len              0.0014      0.001      1.666      0.096      -0.000       0.003\n",
      "==============================================================================\n",
      "Omnibus:                       86.863   Durbin-Watson:                   2.021\n",
      "Prob(Omnibus):                  0.000   Jarque-Bera (JB):              123.455\n",
      "Skew:                           0.844   Prob(JB):                     1.56e-27\n",
      "Kurtosis:                       4.069   Cond. No.                     3.66e+04\n",
      "==============================================================================\n",
      "\n",
      "Notes:\n",
      "[1] Standard Errors assume that the covariance matrix of the errors is correctly specified.\n",
      "[2] The condition number is large, 3.66e+04. This might indicate that there are\n",
      "strong multicollinearity or other numerical problems.\n"
     ]
    }
   ],
   "source": [
    "# ─── (1) OLS for quick interpretability ──────────────────────────────────────\n",
    "print(\"📊 statsmodels OLS …\")\n",
    "X_sm = sm.add_constant(X.select_dtypes(include=[np.number]))\n",
    "ols_res = sm.OLS(y.astype(float), X_sm).fit()\n",
    "print(ols_res.summary())"
   ]
  },
  {
   "cell_type": "code",
   "execution_count": 16,
   "id": "f76af3bc",
   "metadata": {},
   "outputs": [
    {
     "name": "stdout",
     "output_type": "stream",
     "text": [
      "📈 Linear Regression (sklearn)…\n",
      "✅ CV MAE: 19.28k USD\n"
     ]
    }
   ],
   "source": [
    "# ─── (2) Linear Regression ───────────────────────────────────────────────────\n",
    "print(\"📈 Linear Regression (sklearn)…\")\n",
    "lm = LinearRegression()\n",
    "lm_mae = cv_mae(lm)\n",
    "print(f\"✅ CV MAE: {lm_mae:0.2f}k USD\")"
   ]
  },
  {
   "cell_type": "code",
   "execution_count": 17,
   "id": "d2b581fc",
   "metadata": {},
   "outputs": [
    {
     "name": "stdout",
     "output_type": "stream",
     "text": [
      "📉 Lasso Regression …\n",
      "🏆 Best alpha = 0.02 (CV MAE 19.01k)\n"
     ]
    },
    {
     "data": {
      "image/png": "[encoded data removed]",
      "text/plain": [
       "<Figure size 640x480 with 1 Axes>"
      ]
     },
     "metadata": {},
     "output_type": "display_data"
    }
   ],
   "source": [
    "# ─── (3) Lasso Regression + alpha scan ───────────────────────────────────────\n",
    "print(\"📉 Lasso Regression …\")\n",
    "alphas, mae_vals = [], []\n",
    "\n",
    "for a in np.linspace(0.01, 1.0, 100):\n",
    "    lml = Lasso(alpha=a, max_iter=10_000)\n",
    "    mae_vals.append(cv_mae(lml))\n",
    "    alphas.append(a)\n",
    "\n",
    "best_alpha = alphas[int(np.argmin(mae_vals))]\n",
    "print(f\"🏆 Best alpha = {best_alpha:.2f} (CV MAE {min(mae_vals):.2f}k)\")\n",
    "\n",
    "# Plot for reference\n",
    "plt.figure()\n",
    "plt.plot(alphas, mae_vals)\n",
    "plt.xlabel(\"Alpha\")\n",
    "plt.ylabel(\"CV MAE (k USD, lower is better)\")\n",
    "plt.title(\"Lasso alpha tuning\")\n",
    "plt.show()"
   ]
  },
  {
   "cell_type": "code",
   "execution_count": 18,
   "id": "281e07a9",
   "metadata": {},
   "outputs": [],
   "source": [
    "# Re‑fit best Lasso on full training data\n",
    "lasso_best = Lasso(alpha=best_alpha, max_iter=10_000).fit(X_train, y_train)\n"
   ]
  },
  {
   "cell_type": "code",
   "execution_count": 19,
   "id": "0ee3deb4",
   "metadata": {},
   "outputs": [
    {
     "name": "stdout",
     "output_type": "stream",
     "text": [
      "🌲 Random Forest …\n",
      "🔍 GridSearchCV …\n",
      "🏆 Best RF → RandomForestRegressor(max_features=None, n_estimators=200, random_state=42)\n",
      "✅ Best CV MAE: 13.85k USD\n"
     ]
    }
   ],
   "source": [
    "# ─── (4) Random Forest + GridSearch ──────────────────────────────────────────\n",
    "print(\"🌲 Random Forest …\")\n",
    "rf = RandomForestRegressor(random_state=42)\n",
    "\n",
    "grid = {\n",
    "    \"n_estimators\": range(40, 241, 40),\n",
    "    \"criterion\": [\"squared_error\", \"absolute_error\"],\n",
    "    \"max_features\": [\"sqrt\", \"log2\", None],        # ‘auto’ removed\n",
    "}\n",
    "\n",
    "print(\"🔍 GridSearchCV …\")\n",
    "gs = GridSearchCV(\n",
    "    rf,\n",
    "    grid,\n",
    "    scoring=pos_mae,\n",
    "    cv=5,\n",
    "    n_jobs=-1,\n",
    "    verbose=0,\n",
    ")\n",
    "gs.fit(X_train, y_train)\n",
    "rf_best = gs.best_estimator_\n",
    "print(f\"🏆 Best RF → {rf_best}\")\n",
    "print(f\"✅ Best CV MAE: {-gs.best_score_:0.2f}k USD\")\n"
   ]
  },
  {
   "cell_type": "code",
   "execution_count": 20,
   "id": "94529275",
   "metadata": {},
   "outputs": [
    {
     "name": "stdout",
     "output_type": "stream",
     "text": [
      "\n",
      "🔬 Test‑set results\n",
      "• Linear Regression: MAE = 18.84k USD\n",
      "• Lasso: MAE = 18.93k USD\n",
      "• Random Forest: MAE = 11.34k USD\n",
      "• Ensemble (Linear + RF): MAE = 14.22k USD\n"
     ]
    }
   ],
   "source": [
    "# ─── (5) Test‑set evaluation ─────────────────────────────────────────────────\n",
    "print(\"\\n🔬 Test‑set results\")\n",
    "for name, model in [\n",
    "    (\"Linear Regression\", lm.fit(X_train, y_train)),\n",
    "    (\"Lasso\",            lasso_best),\n",
    "    (\"Random Forest\",    rf_best),\n",
    "]:\n",
    "    preds = model.predict(X_test)\n",
    "    mae  = mean_absolute_error(y_test, preds)\n",
    "    print(f\"• {name}: MAE = {mae:0.2f}k USD\")\n",
    "\n",
    "# Simple ensemble (average of Linear & RF)\n",
    "ensemble_pred = (lm.predict(X_test) + rf_best.predict(X_test)) / 2\n",
    "ensemble_mae  = mean_absolute_error(y_test, ensemble_pred)\n",
    "print(f\"• Ensemble (Linear + RF): MAE = {ensemble_mae:0.2f}k USD\")\n"
   ]
  },
  {
   "cell_type": "code",
   "execution_count": 21,
   "id": "f191c54c",
   "metadata": {},
   "outputs": [
    {
     "name": "stdout",
     "output_type": "stream",
     "text": [
      "\n",
      "💾 Saving best model (Random Forest)…\n"
     ]
    }
   ],
   "source": [
    "# ─── (6) Persist best model ──────────────────────────────────────────────────\n",
    "print(\"\\n💾 Saving best model (Random Forest)…\")\n",
    "model_dir = pathlib.Path(\"FlaskAPI/models\")\n",
    "model_dir.mkdir(parents=True, exist_ok=True)\n",
    "\n",
    "with open(model_dir / \"model_file.p\", \"wb\") as f:\n",
    "    pickle.dump({\"model\": rf_best}, f)\n"
   ]
  },
  {
   "cell_type": "code",
   "execution_count": 22,
   "id": "abc72ecf",
   "metadata": {},
   "outputs": [
    {
     "name": "stdout",
     "output_type": "stream",
     "text": [
      "\n",
      "♻️ Reloading & predicting one sample…\n",
      "📌 Predicted salary: 117.365\n",
      "🧾 Features used: [np.float64(4.4), np.int64(0), np.int64(0), np.int64(0), np.int64(1), np.int64(21), np.int64(1), np.int64(0), np.int64(0), np.int64(1), np.int64(4188), np.False_, np.False_, np.False_, np.True_, np.False_, np.False_, np.False_, np.False_, np.False_, np.True_, np.False_, np.False_, np.False_, np.False_, np.False_, np.False_, np.False_, np.False_, np.False_, np.False_, np.False_, np.False_, np.False_, np.False_, np.False_, np.False_, np.False_, np.False_, np.False_, np.False_, np.False_, np.False_, np.False_, np.False_, np.False_, np.False_, np.True_, np.False_, np.False_, np.False_, np.False_, np.False_, np.False_, np.False_, np.False_, np.False_, np.False_, np.False_, np.False_, np.False_, np.False_, np.False_, np.False_, np.False_, np.False_, np.False_, np.False_, np.False_, np.False_, np.False_, np.False_, np.False_, np.False_, np.False_, np.False_, np.False_, np.False_, np.False_, np.False_, np.False_, np.False_, np.False_, np.False_, np.False_, np.False_, np.False_, np.False_, np.False_, np.False_, np.False_, np.False_, np.False_, np.False_, np.False_, np.False_, np.False_, np.False_, np.False_, np.False_, np.True_, np.False_, np.False_, np.False_, np.False_, np.False_, np.False_, np.False_, np.False_, np.False_, np.False_, np.False_, np.False_, np.False_, np.False_, np.False_, np.False_, np.False_, np.False_, np.False_, np.False_, np.False_, np.False_, np.False_, np.True_, np.False_, np.False_, np.False_, np.False_, np.False_, np.False_, np.False_, np.False_, np.False_, np.False_, np.False_, np.False_, np.False_, np.False_, np.False_, np.True_, np.False_, np.False_, np.False_, np.False_, np.False_, np.False_, np.False_, np.False_, np.False_, np.False_, np.False_, np.False_, np.False_, np.False_, np.False_, np.False_, np.False_, np.False_, np.False_, np.False_, np.False_, np.True_, np.False_, np.False_, np.False_, np.False_, np.True_, np.False_]\n",
      "\n",
      "✅ Pipeline finished successfully.\n"
     ]
    }
   ],
   "source": [
    "\n",
    "# ─── (7) Quick sanity check ──────────────────────────────────────────────────\n",
    "sample = X_test.iloc[[0]]          # keep header to avoid warning\n",
    "print(\"\\n♻️ Reloading & predicting one sample…\")\n",
    "with open(model_dir / \"model_file.p\", \"rb\") as f:\n",
    "    model = pickle.load(f)[\"model\"]\n",
    "\n",
    "print(\"📌 Predicted salary:\", model.predict(sample)[0])\n",
    "print(\"🧾 Features used:\", list(sample.iloc[0]))\n",
    "\n",
    "print(\"\\n✅ Pipeline finished successfully.\")\n"
   ]
  },
  {
   "cell_type": "code",
   "execution_count": null,
   "id": "1258d4a1",
   "metadata": {},
   "outputs": [],
   "source": []
  }
 ],
 "metadata": {
  "kernelspec": {
   "display_name": ".venv",
   "language": "python",
   "name": "python3"
  },
  "language_info": {
   "codemirror_mode": {
    "name": "ipython",
    "version": 3
   },
   "file_extension": ".py",
   "mimetype": "text/x-python",
   "name": "python",
   "nbconvert_exporter": "python",
   "pygments_lexer": "ipython3",
   "version": "3.12.3"
  }
 },
 "nbformat": 4,
 "nbformat_minor": 5
}
